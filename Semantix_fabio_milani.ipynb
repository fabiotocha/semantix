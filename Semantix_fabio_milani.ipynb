{
 "cells": [
  {
   "cell_type": "markdown",
   "metadata": {},
   "source": [
    "# Semantix - Desafio Data Science - Fabio"
   ]
  },
  {
   "cell_type": "code",
   "execution_count": 3,
   "metadata": {},
   "outputs": [],
   "source": [
    "#importar módulos para realização das questões\n",
    "\n",
    "import pandas as pd\n",
    "import numpy as np"
   ]
  },
  {
   "cell_type": "markdown",
   "metadata": {},
   "source": [
    "# Carrega a base de dados"
   ]
  },
  {
   "cell_type": "code",
   "execution_count": 9,
   "metadata": {},
   "outputs": [
    {
     "name": "stdout",
     "output_type": "stream",
     "text": [
      "total de linhas: \n",
      "45211\n",
      "base de dados: \n",
      "       age            job   marital  education default  balance housing loan  \\\n",
      "0       58     management   married   tertiary      no     2143     yes   no   \n",
      "1       44     technician    single  secondary      no       29     yes   no   \n",
      "2       33   entrepreneur   married  secondary      no        2     yes  yes   \n",
      "3       47    blue-collar   married    unknown      no     1506     yes   no   \n",
      "4       33        unknown    single    unknown      no        1      no   no   \n",
      "5       35     management   married   tertiary      no      231     yes   no   \n",
      "6       28     management    single   tertiary      no      447     yes  yes   \n",
      "7       42   entrepreneur  divorced   tertiary     yes        2     yes   no   \n",
      "8       58        retired   married    primary      no      121     yes   no   \n",
      "9       43     technician    single  secondary      no      593     yes   no   \n",
      "10      41         admin.  divorced  secondary      no      270     yes   no   \n",
      "11      29         admin.    single  secondary      no      390     yes   no   \n",
      "12      53     technician   married  secondary      no        6     yes   no   \n",
      "13      58     technician   married    unknown      no       71     yes   no   \n",
      "14      57       services   married  secondary      no      162     yes   no   \n",
      "15      51        retired   married    primary      no      229     yes   no   \n",
      "16      45         admin.    single    unknown      no       13     yes   no   \n",
      "17      57    blue-collar   married    primary      no       52     yes   no   \n",
      "18      60        retired   married    primary      no       60     yes   no   \n",
      "19      33       services   married  secondary      no        0     yes   no   \n",
      "20      28    blue-collar   married  secondary      no      723     yes  yes   \n",
      "21      56     management   married   tertiary      no      779     yes   no   \n",
      "22      32    blue-collar    single    primary      no       23     yes  yes   \n",
      "23      25       services   married  secondary      no       50     yes   no   \n",
      "24      40        retired   married    primary      no        0     yes  yes   \n",
      "25      44         admin.   married  secondary      no     -372     yes   no   \n",
      "26      39     management    single   tertiary      no      255     yes   no   \n",
      "27      52   entrepreneur   married  secondary      no      113     yes  yes   \n",
      "28      46     management    single  secondary      no     -246     yes   no   \n",
      "29      36     technician    single  secondary      no      265     yes  yes   \n",
      "...    ...            ...       ...        ...     ...      ...     ...  ...   \n",
      "45181   46    blue-collar   married  secondary      no     6879      no   no   \n",
      "45182   34     technician   married  secondary      no      133      no   no   \n",
      "45183   70        retired   married    primary      no      324      no   no   \n",
      "45184   63        retired   married  secondary      no     1495      no   no   \n",
      "45185   60       services   married   tertiary      no     4256     yes   no   \n",
      "45186   59        unknown   married    unknown      no     1500      no   no   \n",
      "45187   32       services    single  secondary      no     1168     yes   no   \n",
      "45188   29     management    single  secondary      no      703     yes   no   \n",
      "45189   25       services    single  secondary      no      199      no   no   \n",
      "45190   32    blue-collar   married  secondary      no      136      no   no   \n",
      "45191   75        retired  divorced   tertiary      no     3810     yes   no   \n",
      "45192   29     management    single   tertiary      no      765      no   no   \n",
      "45193   28  self-employed    single   tertiary      no      159      no   no   \n",
      "45194   59     management   married   tertiary      no      138     yes  yes   \n",
      "45195   68        retired   married  secondary      no     1146      no   no   \n",
      "45196   25        student    single  secondary      no      358      no   no   \n",
      "45197   36     management    single  secondary      no     1511     yes   no   \n",
      "45198   37     management   married   tertiary      no     1428      no   no   \n",
      "45199   34    blue-collar    single  secondary      no     1475     yes   no   \n",
      "45200   38     technician   married  secondary      no      557     yes   no   \n",
      "45201   53     management   married   tertiary      no      583      no   no   \n",
      "45202   34         admin.    single  secondary      no      557      no   no   \n",
      "45203   23        student    single   tertiary      no      113      no   no   \n",
      "45204   73        retired   married  secondary      no     2850      no   no   \n",
      "45205   25     technician    single  secondary      no      505      no  yes   \n",
      "45206   51     technician   married   tertiary      no      825      no   no   \n",
      "45207   71        retired  divorced    primary      no     1729      no   no   \n",
      "45208   72        retired   married  secondary      no     5715      no   no   \n",
      "45209   57    blue-collar   married  secondary      no      668      no   no   \n",
      "45210   37   entrepreneur   married  secondary      no     2971      no   no   \n",
      "\n",
      "         contact  day month  duration  campaign  pdays  previous poutcome    y  \n",
      "0        unknown    5   may       261         1     -1         0  unknown   no  \n",
      "1        unknown    5   may       151         1     -1         0  unknown   no  \n",
      "2        unknown    5   may        76         1     -1         0  unknown   no  \n",
      "3        unknown    5   may        92         1     -1         0  unknown   no  \n",
      "4        unknown    5   may       198         1     -1         0  unknown   no  \n",
      "5        unknown    5   may       139         1     -1         0  unknown   no  \n",
      "6        unknown    5   may       217         1     -1         0  unknown   no  \n",
      "7        unknown    5   may       380         1     -1         0  unknown   no  \n",
      "8        unknown    5   may        50         1     -1         0  unknown   no  \n",
      "9        unknown    5   may        55         1     -1         0  unknown   no  \n",
      "10       unknown    5   may       222         1     -1         0  unknown   no  \n",
      "11       unknown    5   may       137         1     -1         0  unknown   no  \n",
      "12       unknown    5   may       517         1     -1         0  unknown   no  \n",
      "13       unknown    5   may        71         1     -1         0  unknown   no  \n",
      "14       unknown    5   may       174         1     -1         0  unknown   no  \n",
      "15       unknown    5   may       353         1     -1         0  unknown   no  \n",
      "16       unknown    5   may        98         1     -1         0  unknown   no  \n",
      "17       unknown    5   may        38         1     -1         0  unknown   no  \n",
      "18       unknown    5   may       219         1     -1         0  unknown   no  \n",
      "19       unknown    5   may        54         1     -1         0  unknown   no  \n",
      "20       unknown    5   may       262         1     -1         0  unknown   no  \n",
      "21       unknown    5   may       164         1     -1         0  unknown   no  \n",
      "22       unknown    5   may       160         1     -1         0  unknown   no  \n",
      "23       unknown    5   may       342         1     -1         0  unknown   no  \n",
      "24       unknown    5   may       181         1     -1         0  unknown   no  \n",
      "25       unknown    5   may       172         1     -1         0  unknown   no  \n",
      "26       unknown    5   may       296         1     -1         0  unknown   no  \n",
      "27       unknown    5   may       127         1     -1         0  unknown   no  \n",
      "28       unknown    5   may       255         2     -1         0  unknown   no  \n",
      "29       unknown    5   may       348         1     -1         0  unknown   no  \n",
      "...          ...  ...   ...       ...       ...    ...       ...      ...  ...  \n",
      "45181   cellular   15   nov        74         2    118         3  failure   no  \n",
      "45182   cellular   15   nov       401         2    187         5  success  yes  \n",
      "45183   cellular   15   nov        78         1     96         7  success   no  \n",
      "45184   cellular   16   nov       138         1     22         5  success   no  \n",
      "45185   cellular   16   nov       200         1     92         4  success  yes  \n",
      "45186   cellular   16   nov       280         1    104         2  failure   no  \n",
      "45187   cellular   16   nov       411         1     -1         0  unknown  yes  \n",
      "45188   cellular   16   nov       236         1    550         2  success  yes  \n",
      "45189   cellular   16   nov       173         1     92         5  failure   no  \n",
      "45190   cellular   16   nov       206         1    188         3  success  yes  \n",
      "45191   cellular   16   nov       262         1    183         1  failure  yes  \n",
      "45192   cellular   16   nov       238         1     -1         0  unknown  yes  \n",
      "45193   cellular   16   nov       449         2     33         4  success  yes  \n",
      "45194   cellular   16   nov       162         2    187         5  failure   no  \n",
      "45195   cellular   16   nov       212         1    187         6  success  yes  \n",
      "45196   cellular   16   nov       330         1     -1         0  unknown  yes  \n",
      "45197   cellular   16   nov       270         1     -1         0  unknown  yes  \n",
      "45198   cellular   16   nov       333         2     -1         0  unknown   no  \n",
      "45199   cellular   16   nov      1166         3    530        12    other   no  \n",
      "45200   cellular   16   nov      1556         4     -1         0  unknown  yes  \n",
      "45201   cellular   17   nov       226         1    184         4  success  yes  \n",
      "45202   cellular   17   nov       224         1     -1         0  unknown  yes  \n",
      "45203   cellular   17   nov       266         1     -1         0  unknown  yes  \n",
      "45204   cellular   17   nov       300         1     40         8  failure  yes  \n",
      "45205   cellular   17   nov       386         2     -1         0  unknown  yes  \n",
      "45206   cellular   17   nov       977         3     -1         0  unknown  yes  \n",
      "45207   cellular   17   nov       456         2     -1         0  unknown  yes  \n",
      "45208   cellular   17   nov      1127         5    184         3  success  yes  \n",
      "45209  telephone   17   nov       508         4     -1         0  unknown   no  \n",
      "45210   cellular   17   nov       361         2    188        11    other   no  \n",
      "\n",
      "[45211 rows x 17 columns]\n"
     ]
    }
   ],
   "source": [
    "#Carrega a base de dados\n",
    "\n",
    "base = pd.read_csv('bank-full.csv', delimiter = ';')\n",
    " \n",
    "#quantidade de linhas contida na base\n",
    "print('Total de linhas: ')\n",
    "print(base.shape[0])\n",
    "\n",
    "#Imprime a base de dados importada\n",
    "print('Base de dados: ')\n",
    "print(base)\n"
   ]
  },
  {
   "cell_type": "markdown",
   "metadata": {},
   "source": [
    "# Questão 1: Qual profissão tem mais tendência a fazer um empréstimo? De qual tipo?"
   ]
  },
  {
   "cell_type": "code",
   "execution_count": 11,
   "metadata": {},
   "outputs": [
    {
     "name": "stdout",
     "output_type": "stream",
     "text": [
      "               housing  loan  total\n",
      "job                                \n",
      "blue-collar       7048  1684   8732\n",
      "management        4678  1253   5931\n",
      "technician        4115  1309   5424\n",
      "admin.            3182   991   4173\n",
      "services          2766   836   3602\n",
      "entrepreneur       869   356   1225\n",
      "self-employed      765   229    994\n",
      "retired            491   309    800\n",
      "unemployed         543   109    652\n",
      "housemaid          398   152    550\n",
      "student            249    12    261\n",
      "unknown             26     4     30\n",
      "A profissão que tem maior tendência a fazer um empréstimo é a de operário (blue-collar), sendo que a maioria faz empréstimo imobiliário (7048).\n"
     ]
    }
   ],
   "source": [
    "housing = base[base.housing == \"yes\"].groupby('job').count()[[\"housing\"]]\n",
    "loan = base[base.loan == \"yes\"].groupby('job').count()[[\"loan\"]]\n",
    "\n",
    "result = pd.merge(housing, loan, on='job', how='left')\n",
    "result[\"total\"] = result[\"housing\"] + result[\"loan\"]\n",
    "\n",
    "print(result.sort_values(by=\"total\", ascending=False))\n",
    "print('A profissão que tem maior tendência a fazer um empréstimo é a de operário (blue-collar), sendo que a maioria faz empréstimo imobiliário (7048).')\n",
    "\n",
    "\n"
   ]
  },
  {
   "cell_type": "markdown",
   "metadata": {},
   "source": [
    "# Questao 2: Fazendo uma relação entre número de contatos e sucesso da campanha quais são os pontos relevantes a serem observados?\n"
   ]
  },
  {
   "cell_type": "code",
   "execution_count": 12,
   "metadata": {},
   "outputs": [
    {
     "name": "stdout",
     "output_type": "stream",
     "text": [
      "5289\n"
     ]
    }
   ],
   "source": [
    "#casos de sucesso\n",
    "fil = base[(base.y == 'yes')]\n",
    "print(fil.shape[0])\n"
   ]
  },
  {
   "cell_type": "code",
   "execution_count": 13,
   "metadata": {},
   "outputs": [
    {
     "data": {
      "text/plain": [
       "1     2561\n",
       "2     1401\n",
       "3      618\n",
       "4      317\n",
       "5      139\n",
       "6       92\n",
       "7       47\n",
       "8       32\n",
       "9       21\n",
       "11      16\n",
       "10      14\n",
       "13       6\n",
       "17       6\n",
       "12       4\n",
       "14       4\n",
       "15       4\n",
       "16       2\n",
       "21       1\n",
       "29       1\n",
       "32       1\n",
       "24       1\n",
       "20       1\n",
       "Name: campaign, dtype: int64"
      ]
     },
     "execution_count": 13,
     "metadata": {},
     "output_type": "execute_result"
    }
   ],
   "source": [
    "#dados pela campanha e mostra o número de clientes por número de ligações:\n",
    "fil['campaign'].value_counts()"
   ]
  },
  {
   "cell_type": "code",
   "execution_count": 16,
   "metadata": {},
   "outputs": [
    {
     "data": {
      "text/plain": [
       "1     48.421252\n",
       "2     26.488939\n",
       "3     11.684628\n",
       "4      5.993572\n",
       "5      2.628096\n",
       "6      1.739459\n",
       "7      0.888637\n",
       "8      0.605029\n",
       "9      0.397050\n",
       "11     0.302515\n",
       "10     0.264700\n",
       "13     0.113443\n",
       "17     0.113443\n",
       "12     0.075629\n",
       "14     0.075629\n",
       "15     0.075629\n",
       "16     0.037814\n",
       "21     0.018907\n",
       "29     0.018907\n",
       "32     0.018907\n",
       "24     0.018907\n",
       "20     0.018907\n",
       "Name: campaign, dtype: float64"
      ]
     },
     "execution_count": 16,
     "metadata": {},
     "output_type": "execute_result"
    }
   ],
   "source": [
    "#por porcentagem\n",
    "fil['campaign'].value_counts() / fil.shape[0] * 100\n"
   ]
  },
  {
   "cell_type": "code",
   "execution_count": null,
   "metadata": {},
   "outputs": [],
   "source": [
    "print('taxa de sucesso é mais elevada fazendo-se apenas um contato com o cliente')"
   ]
  },
  {
   "cell_type": "markdown",
   "metadata": {},
   "source": [
    "# Questão 3: Baseando-se nos resultados de adesão desta campanha qual o número médio e o máximo de ligações que você indica para otimizar a adesão?"
   ]
  },
  {
   "cell_type": "code",
   "execution_count": 18,
   "metadata": {},
   "outputs": [
    {
     "data": {
      "text/plain": [
       "1     48.421252\n",
       "2     26.488939\n",
       "3     11.684628\n",
       "4      5.993572\n",
       "5      2.628096\n",
       "6      1.739459\n",
       "7      0.888637\n",
       "8      0.605029\n",
       "9      0.397050\n",
       "11     0.302515\n",
       "10     0.264700\n",
       "13     0.113443\n",
       "17     0.113443\n",
       "12     0.075629\n",
       "14     0.075629\n",
       "15     0.075629\n",
       "16     0.037814\n",
       "21     0.018907\n",
       "29     0.018907\n",
       "32     0.018907\n",
       "24     0.018907\n",
       "20     0.018907\n",
       "Name: campaign, dtype: float64"
      ]
     },
     "execution_count": 18,
     "metadata": {},
     "output_type": "execute_result"
    }
   ],
   "source": [
    "fil['campaign'].value_counts() / fil.shape[0] * 100\n",
    "\n"
   ]
  },
  {
   "cell_type": "code",
   "execution_count": 19,
   "metadata": {},
   "outputs": [
    {
     "name": "stdout",
     "output_type": "stream",
     "text": [
      "número médio de ligações 2, maximo 4\n"
     ]
    }
   ],
   "source": [
    "print('número médio de ligações 2, maximo 4')"
   ]
  },
  {
   "cell_type": "markdown",
   "metadata": {},
   "source": [
    "# Questão 4: O resultado da campanha anterior tem relevância na campanha atual?"
   ]
  },
  {
   "cell_type": "code",
   "execution_count": 20,
   "metadata": {},
   "outputs": [
    {
     "name": "stdout",
     "output_type": "stream",
     "text": [
      "1511\n"
     ]
    }
   ],
   "source": [
    "#busca os casos de sucesso\n",
    "filt = base[(base.poutcome == 'success') & (base.pdays != -1)]\n",
    "print(filt.shape[0])"
   ]
  },
  {
   "cell_type": "code",
   "execution_count": 22,
   "metadata": {},
   "outputs": [
    {
     "data": {
      "text/plain": [
       "yes    64.725347\n",
       "no     35.274653\n",
       "Name: y, dtype: float64"
      ]
     },
     "execution_count": 22,
     "metadata": {},
     "output_type": "execute_result"
    }
   ],
   "source": [
    "#mostra os casos de sucesso em porcentagem\n",
    "filt['y'].value_counts() / filt.shape[0] * 100    "
   ]
  },
  {
   "cell_type": "code",
   "execution_count": 21,
   "metadata": {},
   "outputs": [
    {
     "name": "stdout",
     "output_type": "stream",
     "text": [
      "6746\n"
     ]
    }
   ],
   "source": [
    "#busca casos <> de sucesso\n",
    "filt2 = base[(base.poutcome != 'success') & (base.pdays != -1)]\n",
    "print(filt2.shape[0])"
   ]
  },
  {
   "cell_type": "code",
   "execution_count": 23,
   "metadata": {},
   "outputs": [
    {
     "data": {
      "text/plain": [
       "no     86.258524\n",
       "yes    13.741476\n",
       "Name: y, dtype: float64"
      ]
     },
     "execution_count": 23,
     "metadata": {},
     "output_type": "execute_result"
    }
   ],
   "source": [
    "#busca casos <> de sucesso em porcentagem\n",
    "filt2['y'].value_counts() / filt2.shape[0] * 100"
   ]
  },
  {
   "cell_type": "code",
   "execution_count": 24,
   "metadata": {},
   "outputs": [
    {
     "name": "stdout",
     "output_type": "stream",
     "text": [
      "Somente casos com sucesso da campanha anterior tem relevancia na atual\n"
     ]
    }
   ],
   "source": [
    " print('Somente casos com sucesso da campanha anterior tem relevancia na atual')"
   ]
  },
  {
   "cell_type": "markdown",
   "metadata": {},
   "source": [
    "# Questão 5:  Qual o fator determinante para que o banco exija um seguro de crédito?\n"
   ]
  },
  {
   "cell_type": "code",
   "execution_count": 28,
   "metadata": {},
   "outputs": [
    {
     "name": "stdout",
     "output_type": "stream",
     "text": [
      "182\n",
      "clientes não possuem crédito padrão e têm balanço negativo.\n"
     ]
    }
   ],
   "source": [
    "fil = base[(base.default == 'no') & (base.balance < 0) & (base.y == 'yes')]\n",
    "print(fil.shape[0])\n",
    "print('clientes não possuem crédito padrão e têm balanço negativo.')"
   ]
  },
  {
   "cell_type": "markdown",
   "metadata": {},
   "source": [
    "# Questão 6: Quais são as características mais proeminentes de um cliente que possua empréstimo imobiliário?\n"
   ]
  },
  {
   "cell_type": "code",
   "execution_count": 41,
   "metadata": {},
   "outputs": [
    {
     "name": "stdout",
     "output_type": "stream",
     "text": [
      "28484\n"
     ]
    }
   ],
   "source": [
    "filtr = base[(base.housing == 'yes') | (base.y == 'yes')]\n",
    "print(filtr.shape[0])\n",
    " "
   ]
  },
  {
   "cell_type": "code",
   "execution_count": 38,
   "metadata": {},
   "outputs": [
    {
     "data": {
      "text/plain": [
       "blue-collar      7321\n",
       "management       5548\n",
       "technician       4619\n",
       "admin.           3526\n",
       "services         2950\n",
       "retired           955\n",
       "entrepreneur      939\n",
       "self-employed     884\n",
       "unemployed        705\n",
       "student           496\n",
       "housemaid         483\n",
       "unknown            58\n",
       "Name: job, dtype: int64"
      ]
     },
     "execution_count": 38,
     "metadata": {},
     "output_type": "execute_result"
    }
   ],
   "source": [
    "filtr['job'].value_counts()"
   ]
  },
  {
   "cell_type": "code",
   "execution_count": 39,
   "metadata": {},
   "outputs": [
    {
     "data": {
      "text/plain": [
       "married     17067\n",
       "single       8137\n",
       "divorced     3280\n",
       "Name: marital, dtype: int64"
      ]
     },
     "execution_count": 39,
     "metadata": {},
     "output_type": "execute_result"
    }
   ],
   "source": [
    "filtr['marital'].value_counts()"
   ]
  },
  {
   "cell_type": "code",
   "execution_count": 40,
   "metadata": {},
   "outputs": [
    {
     "data": {
      "text/plain": [
       "no     23898\n",
       "yes     4586\n",
       "Name: loan, dtype: int64"
      ]
     },
     "execution_count": 40,
     "metadata": {},
     "output_type": "execute_result"
    }
   ],
   "source": [
    "filtr['loan'].value_counts()"
   ]
  },
  {
   "cell_type": "code",
   "execution_count": 44,
   "metadata": {},
   "outputs": [
    {
     "name": "stdout",
     "output_type": "stream",
     "text": [
      "Quais são as características mais proeminentes de um cliente que possua empréstimo imobiliário?\n",
      "Resposta: Não tem credito pessoal, é casado\n"
     ]
    }
   ],
   "source": [
    "print('Quais são as características mais proeminentes de um cliente que possua empréstimo imobiliário?')\n",
    "print('Resposta: Não tem credito pessoal, é casado')\n",
    "\n",
    "\n",
    " "
   ]
  },
  {
   "cell_type": "code",
   "execution_count": null,
   "metadata": {},
   "outputs": [],
   "source": []
  }
 ],
 "metadata": {
  "kernelspec": {
   "display_name": "Python 3",
   "language": "python",
   "name": "python3"
  }
 },
 "nbformat": 4,
 "nbformat_minor": 2
}
